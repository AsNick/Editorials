{
 "cells": [
  {
   "cell_type": "markdown",
   "metadata": {},
   "source": [
    "### Задача A: Вибір Снігуроньки  \n",
    "На роль Снегурочки претендует $N$ девочек. $A$ из них длинноногие, $B$ голубоглазые, $C$ блондики.  \n",
    "Снегурочка должна быть длинноногой голубоглазой блондинкой.  \n",
    "Какое минимальное и максимальное количество девочек может претендовать на роль Снегурочки?"
   ]
  },
  {
   "cell_type": "markdown",
   "metadata": {},
   "source": [
    "### Решение задачи.  \n",
    "\n",
    "1. Максимальное количество претендентов ищется просто, это $min(A, B, C)$  \n",
    "2. Найдем минимальное количество:  \n",
    "   -  $d = max(0, a + b - n)$  \n",
    "   -  if $d > 0$:  $ans = max(0, d + c - n)$  \n",
    "   -  или  $ans = max(0, a + b + c - 2 * n)$"
   ]
  },
  {
   "cell_type": "code",
   "execution_count": 2,
   "metadata": {},
   "outputs": [
    {
     "name": "stdout",
     "output_type": "stream",
     "text": [
      "2\n",
      "5 3 4 5\n",
      "3\n"
     ]
    }
   ],
   "source": [
    "f = int(input())\n",
    "n, a, b, c = map(int, input().split())\n",
    "if f == 2:\n",
    "    print(min(a, b, c))\n",
    "else:\n",
    "    print(max(0, a + b + c - 2 * n))"
   ]
  }
 ],
 "metadata": {
  "kernelspec": {
   "display_name": "Python 3",
   "language": "python",
   "name": "python3"
  },
  "language_info": {
   "codemirror_mode": {
    "name": "ipython",
    "version": 3
   },
   "file_extension": ".py",
   "mimetype": "text/x-python",
   "name": "python",
   "nbconvert_exporter": "python",
   "pygments_lexer": "ipython3",
   "version": "3.7.2"
  }
 },
 "nbformat": 4,
 "nbformat_minor": 2
}
