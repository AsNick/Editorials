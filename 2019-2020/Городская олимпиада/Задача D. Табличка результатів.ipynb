{
 "cells": [
  {
   "cell_type": "markdown",
   "metadata": {},
   "source": [
    "### Задача D: Табличка результатів.  \n",
    "\n",
    "Классическая задача на линейный алгоритм: за один или несколько проходов по массиву обрабатываем значения элементов массива и находим ответ на вопрос.  \n",
    "Анализ условия задачи: позиция папы в исходном массиве находится после первого вхождения максимального элемента и не может быть последней.\n",
    "Это задает границы поиска: от $ 1 + idmax(max(a))$ до $n - 1$."
   ]
  },
  {
   "cell_type": "markdown",
   "metadata": {},
   "source": [
    "### Решение за $O(N)$.\n",
    "\n",
    "Найдем максимальный элемент и его первое вхождение в массив. Элементами массива являются  набранные баллы участников."
   ]
  },
  {
   "cell_type": "code",
   "execution_count": 1,
   "metadata": {},
   "outputs": [
    {
     "name": "stdout",
     "output_type": "stream",
     "text": [
      "3\n",
      "1 2 3\n"
     ]
    }
   ],
   "source": [
    "n = int(input())\n",
    "a = list(map(int, input().split()))\n",
    "mx = max(a)\n",
    "idmax = a.index(mx)"
   ]
  },
  {
   "cell_type": "markdown",
   "metadata": {},
   "source": [
    "Теперь всё готово к поиску ответа на вопрос задачи.  \n",
    "В переменной $ans$ будем хранить максимально возможный балл папы.  \n",
    "Изначально $ans = 0$."
   ]
  },
  {
   "cell_type": "code",
   "execution_count": 2,
   "metadata": {},
   "outputs": [
    {
     "name": "stdout",
     "output_type": "stream",
     "text": [
      "3\n",
      "1 2 3\n"
     ]
    }
   ],
   "source": [
    "n = int(input())\n",
    "a = list(map(int, input().split()))\n",
    "mx = max(a)\n",
    "idmax = a.index(mx)\n",
    "ans = -1\n",
    "f = False\n",
    "for i in range(idmax + 1, n - 1):\n",
    "    if a[i] % 10 == 5:\n",
    "        if a[i + 1] < a[i] and ans < a[i]:\n",
    "            ans = a[i]\n",
    "            f = True"
   ]
  },
  {
   "cell_type": "markdown",
   "metadata": {},
   "source": [
    "После того, как отработает этот фрагмент нашего кода, мы будем знать следующее:  \n",
    "1.  Если f == False, ни один из участников не удовлетворяет условиям поиска.\n",
    "2.  Иначе, мы знаем, сколько баллов набрал папа. Определим, на каком месте может быть папа с этими баллами.  \n",
    "    Для этого нам нужно отсортировать наш массив по убыванию и в этом, отсортированном массиве, найти первое вхождение  \n",
    "    $ans$. Задача решена.\n",
    "     \n"
   ]
  },
  {
   "cell_type": "code",
   "execution_count": 3,
   "metadata": {},
   "outputs": [
    {
     "name": "stdout",
     "output_type": "stream",
     "text": [
      "3\n",
      "15 15 10\n",
      "1\n"
     ]
    }
   ],
   "source": [
    "n = int(input())\n",
    "a = list(map(int, input().split()))\n",
    "mx = max(a)\n",
    "idmax = a.index(mx)\n",
    "ans = -1\n",
    "f = False\n",
    "for i in range(idmax + 1, n - 1):\n",
    "    if a[i] % 10 == 5:\n",
    "        if a[i + 1] < a[i] and a[i] > ans:\n",
    "            ans = a[i]\n",
    "            f = True\n",
    "            \n",
    "a.sort(key=lambda x: -x)\n",
    "\n",
    "if f:\n",
    "    print(a.index(ans) + 1)\n",
    "else:\n",
    "    print(0)"
   ]
  }
 ],
 "metadata": {
  "kernelspec": {
   "display_name": "Python 3",
   "language": "python",
   "name": "python3"
  },
  "language_info": {
   "codemirror_mode": {
    "name": "ipython",
    "version": 3
   },
   "file_extension": ".py",
   "mimetype": "text/x-python",
   "name": "python",
   "nbconvert_exporter": "python",
   "pygments_lexer": "ipython3",
   "version": "3.7.2"
  }
 },
 "nbformat": 4,
 "nbformat_minor": 2
}
