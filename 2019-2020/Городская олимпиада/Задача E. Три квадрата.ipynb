{
 "cells": [
  {
   "cell_type": "markdown",
   "metadata": {},
   "source": [
    "### Задача E: Три квадрата.  \n",
    "\n",
    "Задача имеет четыре группы тестов, первая из которых допускает решение полным перебором.  \n",
    "Напишем это решение."
   ]
  },
  {
   "cell_type": "markdown",
   "metadata": {},
   "source": [
    "### Решение за $O(N^3)$"
   ]
  },
  {
   "cell_type": "code",
   "execution_count": 4,
   "metadata": {},
   "outputs": [
    {
     "name": "stdout",
     "output_type": "stream",
     "text": [
      "6\n",
      "1 2 3\n"
     ]
    }
   ],
   "source": [
    "n = int(input())\n",
    "s = n ** 3\n",
    "for a in range(1, n):\n",
    "    for b in range(a + 1, n):\n",
    "        for c in range(b + 1, n):\n",
    "            S = a * a + b * b + c * c\n",
    "            if a + b + c == n and S < s:\n",
    "                s = S\n",
    "                x, y, z = a, b, c\n",
    "\n",
    "print(x, y, z)"
   ]
  },
  {
   "cell_type": "markdown",
   "metadata": {},
   "source": [
    "Это решение проходит все тесты первой группы (и даже несколько тестов второй группы) и набирает 25 баллов.  \n",
    "Оптимизируем его.  \n",
    "Так как $c = n - a - b$, можно избавиться от третьего цикла:  "
   ]
  },
  {
   "cell_type": "markdown",
   "metadata": {},
   "source": [
    "### Решение за $O(N^2)$"
   ]
  },
  {
   "cell_type": "code",
   "execution_count": 7,
   "metadata": {},
   "outputs": [
    {
     "name": "stdout",
     "output_type": "stream",
     "text": [
      "6\n",
      "1 2 3\n"
     ]
    }
   ],
   "source": [
    "n = int(input())\n",
    "s = n ** 3\n",
    "for a in range(1, n):\n",
    "    for b in range(a + 1, n):\n",
    "        c = n - a - b\n",
    "        if c > b:\n",
    "            S = a * a + b * b + c * c\n",
    "            if S < s:\n",
    "                s = S\n",
    "                x, y, z = a, b, c\n",
    "\n",
    "print(x, y, z)"
   ]
  },
  {
   "cell_type": "markdown",
   "metadata": {},
   "source": [
    "Это решение проходит первую группу тестов, большую часть тестов второй группы, но не все.  \n",
    "Оптимизируем это решение, уточнив правую границу внутреннего цикла.  \n",
    "Так, как $c > b$, то имеем  \n",
    "$n - a - b > b$  \n",
    "$n - a > 2b$  \n",
    "$b < (n - a) / 2$  \n",
    "$b < (n - a + 1) // 2$  \n",
    "\n",
    "Перепишем решение за $O(N^2)$ с новой правой границей для $b$:  \n"
   ]
  },
  {
   "cell_type": "code",
   "execution_count": 8,
   "metadata": {},
   "outputs": [
    {
     "name": "stdout",
     "output_type": "stream",
     "text": [
      "6\n",
      "1 2 3\n"
     ]
    }
   ],
   "source": [
    "n = int(input())\n",
    "s = n ** 3\n",
    "for a in range(1, n):\n",
    "    for b in range(a + 1, (n - a + 1) // 2):\n",
    "        c = n - a - b\n",
    "        S = a * a + b * b + c * c\n",
    "        if S < s:\n",
    "            s = S\n",
    "            x, y, z = a, b, c\n",
    "\n",
    "print(x, y, z)"
   ]
  },
  {
   "cell_type": "markdown",
   "metadata": {},
   "source": [
    "Это решение проходит первую и вторую группы тестов.  \n",
    "Оганичения для третьей группы тестов требуют решения за $O(N)$.  \n",
    "Найдем его."
   ]
  },
  {
   "cell_type": "markdown",
   "metadata": {},
   "source": [
    "### Решение за $O(N)$.  \n",
    "Анализируя решения для значений $N < 2000$, видим, что в тройке ($a, b, c $) числа идут друг за другом с шагом \"один\" или с шагом \"два\". С учетом этого наблюдения, наше решение может иметь такой вид:   "
   ]
  },
  {
   "cell_type": "code",
   "execution_count": 10,
   "metadata": {},
   "outputs": [
    {
     "name": "stdout",
     "output_type": "stream",
     "text": [
      "100\n",
      "32 33 35\n"
     ]
    }
   ],
   "source": [
    "n = int(input())\n",
    "a, b, c = 1, 2, 3\n",
    "for s in range(6, n + 1):\n",
    "    if a + b + c != n:\n",
    "        c += 1\n",
    "    if a + b + c != n:\n",
    "        b += 1\n",
    "    if a + b + c != n:\n",
    "        a += 1\n",
    "    if a + b + c == n:\n",
    "        break\n",
    "\n",
    "print(a, b, c)\n"
   ]
  },
  {
   "cell_type": "markdown",
   "metadata": {},
   "source": [
    "Это решение проходит первые три группы тестов и набирает $75 (70)$ баллов."
   ]
  },
  {
   "cell_type": "markdown",
   "metadata": {},
   "source": [
    "Четвертая группа тестов имеет ограничение $N \\leq 1000000000$.  \n",
    "Пройти эти ограничения может только аналитическое решение.  \n",
    "Найдем его.  \n",
    "Заметим, что нужная тройка чисел находится в окрестности числа $N / 3$.  \n",
    "Переберем все тройки из этой окрестности и найдем нужную нам."
   ]
  },
  {
   "cell_type": "markdown",
   "metadata": {},
   "source": [
    "### Решение за $O(1)$."
   ]
  },
  {
   "cell_type": "code",
   "execution_count": 2,
   "metadata": {},
   "outputs": [
    {
     "name": "stdout",
     "output_type": "stream",
     "text": [
      "100\n",
      "32 33 35\n"
     ]
    }
   ],
   "source": [
    "n = int(input())\n",
    "a = max(1, n // 3 - 2)\n",
    "s = n ** 3\n",
    "for i in range(a, a + 5):\n",
    "    for b in range(i + 1, a + 5):\n",
    "        for c in range(b + 1, a + 5):\n",
    "            if i + b + c == n:\n",
    "                S = i * i + b * b + c * c\n",
    "                if S < s:\n",
    "                    s = S\n",
    "                    x, y, z = i, b, c\n",
    "                \n",
    "print(x, y, z)\n",
    "                "
   ]
  },
  {
   "cell_type": "markdown",
   "metadata": {},
   "source": [
    "Это решение заходит на полный балл."
   ]
  }
 ],
 "metadata": {
  "kernelspec": {
   "display_name": "Python 3",
   "language": "python",
   "name": "python3"
  },
  "language_info": {
   "codemirror_mode": {
    "name": "ipython",
    "version": 3
   },
   "file_extension": ".py",
   "mimetype": "text/x-python",
   "name": "python",
   "nbconvert_exporter": "python",
   "pygments_lexer": "ipython3",
   "version": "3.7.2"
  }
 },
 "nbformat": 4,
 "nbformat_minor": 2
}
