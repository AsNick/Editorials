{
 "cells": [
  {
   "cell_type": "markdown",
   "metadata": {},
   "source": [
    "## Задача A: Необходимый остаток."
   ]
  },
  {
   "cell_type": "markdown",
   "metadata": {},
   "source": [
    "Вам даны три целых числа $𝑥$,$𝑦$ и $𝑛$. Ваша задача — найти максимальное целое число $𝑘$, такое что $0≤𝑘≤𝑛$ и $𝑘 mod 𝑥 = 𝑦$, где $mod$ — операция взятия остатка от деления. Во многих языков программирования для нахождения остатка используется оператор процент %.\n",
    "\n",
    "Другими словами, по заданным $𝑥,𝑦$ и $𝑛$ вам нужно найти максимальное возможное целое число от $0$ до $𝑛$, имеющее остаток $𝑦$ при делении на $𝑥$.\n",
    "\n",
    "Вам нужно ответить на $𝑡$ независимых наборов тестовых данных. Гарантируется, что для каждого набора тестовых данных искомое $𝑘$ существует."
   ]
  },
  {
   "cell_type": "markdown",
   "metadata": {},
   "source": [
    "### Входные данные\n",
    "Первая строка теста содержит одно целое число $𝑡 (1≤𝑡≤5⋅10^4)$ — количество наборов тестовых данных. Затем следуют $𝑡$ наборов тестовых данных.\n",
    "\n",
    "Единственная строка набора входных данных содержит три целых числа $𝑥,𝑦$ и $𝑛$ ($2≤𝑥≤10^9; 0≤𝑦<𝑥; 𝑦≤𝑛≤10^9$).\n",
    "\n",
    "Можно показать, что при заданных выше ограничениях искомое $𝑘$ всегда существует."
   ]
  },
  {
   "cell_type": "markdown",
   "metadata": {},
   "source": [
    "### Выходные данные  \n",
    "\n",
    "Для каждого набора тестовых данных выведите ответ — **максимальное неотрицательное целое** число $𝑘$, что $0≤𝑘≤𝑛$ и $𝑘mod𝑥=𝑦$. Гарантируется, что ответ всегда существует."
   ]
  },
  {
   "cell_type": "markdown",
   "metadata": {},
   "source": [
    "### Решение. "
   ]
  },
  {
   "cell_type": "markdown",
   "metadata": {},
   "source": [
    "#### 1. Решение полным перебором.  \n"
   ]
  },
  {
   "cell_type": "code",
   "execution_count": 1,
   "metadata": {},
   "outputs": [
    {
     "name": "stdout",
     "output_type": "stream",
     "text": [
      "7\n",
      "7 5 12345\n",
      "12339\n",
      "5 0 4\n",
      "0\n",
      "10 5 15\n",
      "15\n",
      "17 8 54321\n",
      "54306\n",
      "499999993 9 1000000000\n",
      "999999995\n",
      "10 5 187\n",
      "185\n",
      "2 0 999999999\n",
      "999999998\n"
     ]
    }
   ],
   "source": [
    "for t in range(int(input())):\n",
    "    x, y, n = map(int, input().split())\n",
    "    for k in range(n, -1, -1):\n",
    "        if k % x == y:\n",
    "            print(k)\n",
    "            break"
   ]
  },
  {
   "cell_type": "markdown",
   "metadata": {},
   "source": [
    "Вычислительная сложность решения $O(t \\cdot n)$ $\\sim 10 ^ 4 \\cdot 10 ^ 9 = 10 ^ {13}$"
   ]
  },
  {
   "cell_type": "markdown",
   "metadata": {},
   "source": [
    "#### 2. Аналитческое решение.  \n"
   ]
  },
  {
   "cell_type": "markdown",
   "metadata": {},
   "source": [
    "Какое **минимальное** число $k$ удовлетворяет условию $k\\, mod\\, x = y$?  \n",
    "Это число $y$.  \n",
    "А так же числа ряда:  $y,\\, y + x,\\, y + 2 \\cdot x,\\, y + 3 \\cdot x\\,...\\, y + m \\cdot x$  \n",
    "Как найти $m$?  \n",
    "$m = ((n - y)//x)\\cdot x + y$"
   ]
  },
  {
   "cell_type": "code",
   "execution_count": 2,
   "metadata": {},
   "outputs": [
    {
     "name": "stdout",
     "output_type": "stream",
     "text": [
      "7\n",
      "7 5 12345\n",
      "12339\n",
      "5 0 4\n",
      "0\n",
      "10 5 15\n",
      "15\n",
      "17 8 54321\n",
      "54306\n",
      "499999993 9 1000000000\n",
      "999999995\n",
      "10 5 187\n",
      "185\n",
      "2 0 999999999\n",
      "999999998\n"
     ]
    }
   ],
   "source": [
    "for t in range(int(input())):\n",
    "    x, y, n = map(int, input().split())\n",
    "    k = (n - y) // x\n",
    "    k = k * x + y\n",
    "    print(k)"
   ]
  },
  {
   "cell_type": "markdown",
   "metadata": {},
   "source": [
    "Вычислительная сложность решения $O(t)$ $\\sim 10 ^ 4$.  "
   ]
  },
  {
   "cell_type": "code",
   "execution_count": null,
   "metadata": {},
   "outputs": [],
   "source": []
  }
 ],
 "metadata": {
  "kernelspec": {
   "display_name": "Python 3",
   "language": "python",
   "name": "python3"
  },
  "language_info": {
   "codemirror_mode": {
    "name": "ipython",
    "version": 3
   },
   "file_extension": ".py",
   "mimetype": "text/x-python",
   "name": "python",
   "nbconvert_exporter": "python",
   "pygments_lexer": "ipython3",
   "version": "3.7.2"
  }
 },
 "nbformat": 4,
 "nbformat_minor": 2
}
