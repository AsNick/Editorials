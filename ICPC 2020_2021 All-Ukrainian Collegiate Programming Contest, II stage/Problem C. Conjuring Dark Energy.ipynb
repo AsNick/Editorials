{
 "cells": [
  {
   "cell_type": "markdown",
   "metadata": {},
   "source": [
    "### Problem C. Conjuring Dark Energy"
   ]
  },
  {
   "cell_type": "markdown",
   "metadata": {},
   "source": [
    "Если отбросить легенду, задача вот о чем:  \n",
    "+ в первой угловой четверти координатной плоскости расположены три различные квадратные плитки единичной площади, координаты углов у которых - целые числа и стороны параллельны осям координат;  \n",
    "+ эти три плитки нужно соединить дорожкой наименьшей площади, элементами дорожки являются такие же плитки, что и первые три;  \n",
    "+ соединять плитки можно по одной из четырех сторон;"
   ]
  },
  {
   "cell_type": "markdown",
   "metadata": {},
   "source": [
    "#### Решение."
   ]
  },
  {
   "cell_type": "markdown",
   "metadata": {},
   "source": [
    "Решим задачу полным перебором возможных положений трех стартовых плиток относительно друг друга."
   ]
  },
  {
   "cell_type": "markdown",
   "metadata": {},
   "source": [
    "#### План решения:  \n",
    "  \n",
    "  + отсортируем три плитки по неубыванию координаты $x$;\n",
    "  + решим задачу для первых двух плиток полным перебором их взаимного расположения относительно координаты $y$;\n",
    "  + для каждого из эти вариантов достроим решение для третьей плитки;"
   ]
  },
  {
   "cell_type": "code",
   "execution_count": 1,
   "metadata": {},
   "outputs": [
    {
     "name": "stdout",
     "output_type": "stream",
     "text": [
      "1 1 2 2 3 3\n"
     ]
    }
   ],
   "source": [
    "# считаем координаты левого нижнего угла каждой плитки\n",
    "x1, y1, x2, y2, x3, y3 = map(int, input().split())"
   ]
  },
  {
   "cell_type": "code",
   "execution_count": 2,
   "metadata": {},
   "outputs": [],
   "source": [
    "# расположит плитки по неубыванию координаты $x$ левого нижнего угла каждой плитки\n",
    "if x1 > x2:\n",
    "    x1, x2 = x2, x1\n",
    "    y1, y2 = y2, y1\n",
    "if x1 > x3:\n",
    "    x1, x3 = x3, x1\n",
    "    y1, y3 = y3, y1\n",
    "if x2 > x3:\n",
    "    x2, x3 = x3, x2\n",
    "    y2, y3 = y3, y2"
   ]
  },
  {
   "cell_type": "code",
   "execution_count": 3,
   "metadata": {},
   "outputs": [],
   "source": [
    "# заведем переменную ans, в которой будем хранить ответ\n",
    "ans = 0"
   ]
  },
  {
   "cell_type": "code",
   "execution_count": 4,
   "metadata": {},
   "outputs": [],
   "source": [
    "# Блок I.\n",
    "# рассмотрим ситуацию, когда первые две плитки расположены на одной горизонтали, т.е. y1 == y2:\n",
    "if y1 == y2:\n",
    "    ans += (x2 - (x1 + 1))"
   ]
  },
  {
   "cell_type": "code",
   "execution_count": null,
   "metadata": {},
   "outputs": [],
   "source": [
    "# Блок II.\n",
    "# рассмотрим ситуацию, когда вторая плитка расположенна выше или ниже первой:\n",
    "else:\n",
    "    ans += (x2 - x1)\n",
    "    if y2 > y1:\n",
    "        ans += (y2 - (y1 + 1))\n",
    "    else:\n",
    "        ans += (y1 - (y2 + 1))"
   ]
  },
  {
   "cell_type": "markdown",
   "metadata": {},
   "source": [
    "Все ситуации для двух плиток рассмотрены и для каждой из этих ситуаций подсчитано ans. \n",
    "Добавим в рассмотрение третью плитку, аккуратно выписывая всевозможные случаи ее расположения отностительно второй.  \n",
    "Перепишем Блок I нашего кода:"
   ]
  },
  {
   "cell_type": "code",
   "execution_count": 5,
   "metadata": {},
   "outputs": [],
   "source": [
    "if y1 == y2:\n",
    "    ans += (x2 - (x1 + 1))\n",
    "    if y2 == y3:\n",
    "        ans += (x3 - (x2 + 1))\n",
    "    elif y3 > y2:\n",
    "        ans += (x3 - x2)\n",
    "        ans += (y3 - (y2 + 1))\n",
    "    else:\n",
    "        ans += (x3 - x2)\n",
    "        ans += (y2 - (y3 + 1))"
   ]
  },
  {
   "cell_type": "markdown",
   "metadata": {},
   "source": [
    "Перепишем Блок II нашего кода:"
   ]
  },
  {
   "cell_type": "code",
   "execution_count": null,
   "metadata": {},
   "outputs": [],
   "source": [
    "else:\n",
    "    ans += (x3 - x2)\n",
    "    if y2 > y1:\n",
    "        ans += (y2 - (y1 + 1))\n",
    "        if y2 == y3:\n",
    "            \n",
    "    else:\n",
    "        ans += (y1 - (y2 + 1))"
   ]
  }
 ],
 "metadata": {
  "kernelspec": {
   "display_name": "Python 3",
   "language": "python",
   "name": "python3"
  },
  "language_info": {
   "codemirror_mode": {
    "name": "ipython",
    "version": 3
   },
   "file_extension": ".py",
   "mimetype": "text/x-python",
   "name": "python",
   "nbconvert_exporter": "python",
   "pygments_lexer": "ipython3",
   "version": "3.7.2"
  }
 },
 "nbformat": 4,
 "nbformat_minor": 2
}
