{
 "cells": [
  {
   "cell_type": "markdown",
   "metadata": {},
   "source": [
    "## Задача A: Програма журі."
   ]
  },
  {
   "cell_type": "markdown",
   "metadata": {},
   "source": [
    "### Решение полным перебором.  \n",
    "  \n",
    "  + пусть $N = \\overline{axb}$, $a \\neq b, a\\neq x, b\\neq x$.  \n",
    "  + выпишем все числа, которые можно сконструировать из цифр этого числа:  \n",
    "  $\\overline{axb}, \\overline{abx}, \\overline{xab}, \\overline{xba}, \\overline{bax}, \\overline{bxa}$  \n",
    "  + для каждого $0\\leq x \\leq 9$ построим шесть вышеуказанных чисел, найдем их сумму $S$ и если $S$ равно сумме из входных данных, $x$ - нужная нам цифра\n",
    "  "
   ]
  },
  {
   "cell_type": "code",
   "execution_count": 1,
   "metadata": {},
   "outputs": [
    {
     "name": "stdout",
     "output_type": "stream",
     "text": [
      "1\n",
      "3\n",
      "1332\n",
      "123\n"
     ]
    }
   ],
   "source": [
    "def f(l, m, r):\n",
    "    return 100 * l + m * 10 + r\n",
    "\n",
    "\n",
    "a = int(input())\n",
    "b = int(input())\n",
    "s = int(input())\n",
    "\n",
    "for x in range(10):\n",
    "    S = f(a, x, b) + f(a, b, x) + f(x, a, b) + f(x, b, a) + f(b, a, x) + f(b, x, a)\n",
    "    if S == s:\n",
    "        break\n",
    "        \n",
    "print(100 * a + 10 * x + b)"
   ]
  },
  {
   "cell_type": "markdown",
   "metadata": {},
   "source": [
    "### Аналитическое решение."
   ]
  },
  {
   "cell_type": "markdown",
   "metadata": {},
   "source": [
    "Пусть $a, b$ - заданные цифры, $x$ - искомая цифра, $\\overline{axb}, \\overline{abx}, \\overline{xab}, \\overline{xba}, \\overline{bax}, \\overline{bxa}$ - все числа, которые можно получить из этих цифр, $S$ - сумма этих чисел.  "
   ]
  },
  {
   "cell_type": "markdown",
   "metadata": {},
   "source": [
    "$\\overline{axb} + \\overline{abx} + \\overline{xab} + \\overline{xba} + \\overline{bax} + \\overline{bxa} = $  \n",
    "$= 100 \\cdot a + 10 \\cdot x + b + 100 \\cdot a + 10 \\cdot b + x + 100 \\cdot x + 10 \\cdot a + b + 100 \\cdot x + 10 \\cdot b + a + 100 \\cdot b + 10 \\cdot a + x + 100 \\cdot b + 10 \\cdot x + a$  \n",
    "  \n",
    "  Сгруппируем слагаемые:  \n",
    "    \n",
    " $= (100 \\cdot a +  100 \\cdot a  + a + 10 \\cdot a + 10 \\cdot a + a) + (b + 10 \\cdot b + b + 10 \\cdot b + 100 \\cdot b + 100 \\cdot b ) + (100\\cdot x + 100\\cdot x + 10 \\cdot x + 10 \\cdot x + x + x) = $  \n",
    " $222 \\cdot a + 222 \\cdot b + 222 \\cdot x$"
   ]
  },
  {
   "cell_type": "markdown",
   "metadata": {},
   "source": [
    "Получили:  \n",
    "$S = 222\\cdot a + 222\\cdot b + 222 \\cdot x$  \n",
    "$x = S \\div 222 - a - b$"
   ]
  },
  {
   "cell_type": "code",
   "execution_count": 2,
   "metadata": {},
   "outputs": [
    {
     "name": "stdout",
     "output_type": "stream",
     "text": [
      "123\n"
     ]
    }
   ],
   "source": [
    "x = s // 222 - a - b\n",
    "print(100 * a + 10 * x + b)"
   ]
  }
 ],
 "metadata": {
  "kernelspec": {
   "display_name": "Python 3",
   "language": "python",
   "name": "python3"
  },
  "language_info": {
   "codemirror_mode": {
    "name": "ipython",
    "version": 3
   },
   "file_extension": ".py",
   "mimetype": "text/x-python",
   "name": "python",
   "nbconvert_exporter": "python",
   "pygments_lexer": "ipython3",
   "version": "3.7.2"
  }
 },
 "nbformat": 4,
 "nbformat_minor": 2
}
