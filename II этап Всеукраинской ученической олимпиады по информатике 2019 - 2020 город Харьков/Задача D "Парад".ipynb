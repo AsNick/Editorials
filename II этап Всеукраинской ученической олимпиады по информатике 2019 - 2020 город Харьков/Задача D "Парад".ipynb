{
 "cells": [
  {
   "cell_type": "markdown",
   "metadata": {},
   "source": [
    "## Задача D \"Парад\".  \n",
    "  \n",
    "Задача сводится к нахождению максимального делителя числа $N$, который является полным квадратом.\n",
    "  \n",
    "**Решение.**  \n",
    "Первый способ:  \n",
    "+ найдем все делители числа $N$, выберем те из них, которые являются полным квадратом, из последних выберем максимальный.  \n",
    "\n",
    "Второй способ:  \n",
    "+ найдем все полные квадраты в интервале $[1, N]$, выберем из них делители числа $N$, из последних выберем максимальный."
   ]
  },
  {
   "cell_type": "code",
   "execution_count": 1,
   "metadata": {},
   "outputs": [
    {
     "name": "stdout",
     "output_type": "stream",
     "text": [
      "180\n",
      "36\n"
     ]
    }
   ],
   "source": [
    "def q(x):\n",
    "    return int(x ** .5) ** 2 == x\n",
    "\n",
    "\n",
    "n = int(input())\n",
    "ans = 1\n",
    "for i in range(1, 1 + int(n ** .5)):\n",
    "    if n % i == 0:\n",
    "        if q(i):\n",
    "            ans = max(ans, i)\n",
    "        if q(n // i):\n",
    "            ans = max(ans, n // i)\n",
    "            \n",
    "print(ans)\n",
    "        "
   ]
  },
  {
   "cell_type": "code",
   "execution_count": 2,
   "metadata": {},
   "outputs": [
    {
     "name": "stdout",
     "output_type": "stream",
     "text": [
      "100\n",
      "100\n"
     ]
    }
   ],
   "source": [
    "n = int(input())\n",
    "\n",
    "d = 1\n",
    "ans = 1\n",
    "for i in range(2, 1 + int(n ** .5)):\n",
    "    d = i * i\n",
    "    if n % d == 0:\n",
    "        ans = d\n",
    "print(ans)"
   ]
  },
  {
   "cell_type": "code",
   "execution_count": null,
   "metadata": {},
   "outputs": [],
   "source": []
  }
 ],
 "metadata": {
  "kernelspec": {
   "display_name": "Python 3",
   "language": "python",
   "name": "python3"
  },
  "language_info": {
   "codemirror_mode": {
    "name": "ipython",
    "version": 3
   },
   "file_extension": ".py",
   "mimetype": "text/x-python",
   "name": "python",
   "nbconvert_exporter": "python",
   "pygments_lexer": "ipython3",
   "version": "3.7.2"
  }
 },
 "nbformat": 4,
 "nbformat_minor": 2
}
