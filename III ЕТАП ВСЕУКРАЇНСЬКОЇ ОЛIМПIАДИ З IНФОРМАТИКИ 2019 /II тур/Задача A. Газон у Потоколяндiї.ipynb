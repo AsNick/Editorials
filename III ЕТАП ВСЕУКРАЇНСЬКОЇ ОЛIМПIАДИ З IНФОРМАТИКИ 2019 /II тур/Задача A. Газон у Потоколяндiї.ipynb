{
 "cells": [
  {
   "cell_type": "markdown",
   "metadata": {},
   "source": [
    "### Задача A. Газон у Потоколяндiї."
   ]
  },
  {
   "cell_type": "markdown",
   "metadata": {},
   "source": [
    "Легенда задачи сводится к следующему:  \n",
    "+ у нас есть газон шириной $1$ метр и длиной $n$ метров;  \n",
    "+ у нас есть газонокосилка, которая за один час стрижет $k$ метров нашего газона;  \n",
    "+ газонокосилку можно запускать на участке нескошенной травы длиной не менее $k$;  \n",
    "+ на участке газона с нестриженной травой, длина которого менее $k$ метров, газонокосилку ЗАПУСКАТЬ НЕЛЬЗЯ;  \n",
    "+ через час подстриженный ранее участок зарастает новой травой;  \n",
    "+ ограничения на входные данные $1 \\leq  k \\leq  n \\leq  100$  \n",
    "  \n",
    "  \n",
    "Нужно определить, за какое минимальное время вся трава нашего газона будет подстрижена хотя бы раз."
   ]
  },
  {
   "cell_type": "markdown",
   "metadata": {},
   "source": [
    "#### Решение."
   ]
  },
  {
   "cell_type": "markdown",
   "metadata": {},
   "source": [
    "Рассмотрим три случая:  \n",
    "+ у нашего газона количество участков длины $k$ больше двух;  \n",
    "+ у нашего газона количество участков длины $k$ меньше двух но кратно $k$;  \n",
    "+ у нашего газона количество участков длины $k$ меньше двух и не кратно $k$;\n",
    "\n"
   ]
  },
  {
   "cell_type": "code",
   "execution_count": 1,
   "metadata": {},
   "outputs": [
    {
     "name": "stdout",
     "output_type": "stream",
     "text": [
      "5 2\n",
      "3\n"
     ]
    }
   ],
   "source": [
    "n, k = map(int, input().split())\n",
    "if n // k > 1:\n",
    "    ans = (n + k - 1) // k\n",
    "else:\n",
    "    if n % k == 0:\n",
    "        ans = 1\n",
    "    else:\n",
    "        ans = 3\n",
    "        \n",
    "print(ans)"
   ]
  },
  {
   "cell_type": "code",
   "execution_count": null,
   "metadata": {},
   "outputs": [],
   "source": []
  }
 ],
 "metadata": {
  "kernelspec": {
   "display_name": "Python 3",
   "language": "python",
   "name": "python3"
  },
  "language_info": {
   "codemirror_mode": {
    "name": "ipython",
    "version": 3
   },
   "file_extension": ".py",
   "mimetype": "text/x-python",
   "name": "python",
   "nbconvert_exporter": "python",
   "pygments_lexer": "ipython3",
   "version": "3.7.2"
  }
 },
 "nbformat": 4,
 "nbformat_minor": 2
}
