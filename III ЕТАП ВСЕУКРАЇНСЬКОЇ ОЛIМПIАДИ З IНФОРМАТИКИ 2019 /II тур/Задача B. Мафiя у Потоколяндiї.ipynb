{
 "cells": [
  {
   "cell_type": "markdown",
   "metadata": {},
   "source": [
    "### Задача B. Мафiя у Потоколяндiї."
   ]
  },
  {
   "cell_type": "markdown",
   "metadata": {},
   "source": [
    "Легенда задачи: какое минимальное количество тестировщиков игры нужно набрать,  \n",
    "$\\;\\;\\;\\;\\;\\;\\;\\;\\;\\;\\;\\;\\;\\;\\;\\;\\;\\;\\;\\;\\;\\;$чтобы в общем и приватных чатах игры было напечатано не менее $n$ слов.  \n",
    "$\\;\\;\\;\\;\\;\\;\\;\\;\\;\\;\\;\\;\\;\\;\\;\\;\\;\\;\\;\\;\\;\\;$Каждый тестировщик может напечатать $a$ слов в общий чат и $b$ слов в приватный.  \n",
    "Ограничения на входные данные:   \n",
    "  \n",
    "  \n",
    "$1 <  n \\leq  10^{12}$  $\\;\\;\\;\\;\\;$ $0 \\leq  a, b \\leq  10^6$  $\\;\\;\\;\\;\\;\\;$  $0 <  a + b$  \n",
    "  \n",
    "    \n",
    "Нужно найти такое минимальное $x$, чтобы  \n",
    "\n",
    " $x \\cdot a + x \\cdot (x - 1) \\cdot b \\geq n$  "
   ]
  },
  {
   "cell_type": "markdown",
   "metadata": {},
   "source": [
    "#### Решение за $O(\\sqrt{n})$:"
   ]
  },
  {
   "cell_type": "code",
   "execution_count": null,
   "metadata": {},
   "outputs": [],
   "source": [
    "n, a, b = map(int, input().split())\n",
    "\n",
    "if b:\n",
    "    for x in range(1, n):\n",
    "        if x * a + x * (x - 1) * b >= n:\n",
    "            ans = x\n",
    "            break\n",
    "else:\n",
    "    ans = (n + a - 1) // a"
   ]
  },
  {
   "cell_type": "markdown",
   "metadata": {},
   "source": [
    "#### Решение за $O(log(n)):$\n",
    "   \n",
    "Решим задачу бинарным поиском по ответу.   "
   ]
  },
  {
   "cell_type": "code",
   "execution_count": null,
   "metadata": {},
   "outputs": [],
   "source": [
    "def good(x):\n",
    "    return x * a + b * x * (x - 1) >= n\n",
    "\n",
    "\n",
    "n, a, b = map(int, input().split())\n",
    "L = 1\n",
    "R = 2 * n\n",
    "while R - L > 1:\n",
    "    d = (L + R) // 2\n",
    "    if good(d):\n",
    "        R = d\n",
    "    else:\n",
    "        L = d\n",
    "\n",
    "print(R)\n"
   ]
  },
  {
   "cell_type": "code",
   "execution_count": null,
   "metadata": {},
   "outputs": [],
   "source": []
  }
 ],
 "metadata": {
  "kernelspec": {
   "display_name": "Python 3",
   "language": "python",
   "name": "python3"
  },
  "language_info": {
   "codemirror_mode": {
    "name": "ipython",
    "version": 3
   },
   "file_extension": ".py",
   "mimetype": "text/x-python",
   "name": "python",
   "nbconvert_exporter": "python",
   "pygments_lexer": "ipython3",
   "version": "3.7.2"
  }
 },
 "nbformat": 4,
 "nbformat_minor": 2
}
