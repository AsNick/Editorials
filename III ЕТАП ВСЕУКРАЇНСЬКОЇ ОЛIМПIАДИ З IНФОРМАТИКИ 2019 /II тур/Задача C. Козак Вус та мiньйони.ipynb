{
 "cells": [
  {
   "cell_type": "markdown",
   "metadata": {},
   "source": [
    "### Задача C. Козак Вус та мiньйони."
   ]
  },
  {
   "cell_type": "markdown",
   "metadata": {},
   "source": [
    "Легенда задачи:  \n",
    "+ имеем $n$ миньонов;  \n",
    "+ каждый миньон пронумерован от $1$ до  $n$;  \n",
    "+ каждый миньон характеризуется силой $a$ и выносливостью $b$;\n",
    "+ можно собрать отряд численностью $k$ миньонов;\n",
    "+ в каждом отряде есть один лидер;\n",
    "+ суммарная стоимость отряда - сумма силы лидера отряда и выносливости остальных миньонов;  \n",
    "  \n",
    "  Нужно найти минимальную стоимость отряда, состоящую из $k$ миньонов где $k$:  \n",
    "    $1 \\leq k \\leq n$\n"
   ]
  },
  {
   "cell_type": "markdown",
   "metadata": {},
   "source": [
    "#### Решение."
   ]
  },
  {
   "cell_type": "markdown",
   "metadata": {},
   "source": [
    "Задача решается методом динамического программирования для реализации которого нужно создать четыре вспомогательные структуры данных."
   ]
  },
  {
   "cell_type": "markdown",
   "metadata": {},
   "source": [
    "1. Первая структура - список $x$, элементами которого будут списки выносливости и силы каждошо миньона:  \n",
    "  \n",
    "  $x = [[b_0, a_0], [b_1, a_1], ..., [b_n, a_n]$\n"
   ]
  },
  {
   "cell_type": "code",
   "execution_count": 3,
   "metadata": {},
   "outputs": [
    {
     "name": "stdout",
     "output_type": "stream",
     "text": [
      "5\n",
      "3 4\n",
      "3 3\n",
      "2 4\n",
      "4 3\n",
      "5 3\n"
     ]
    }
   ],
   "source": [
    "n = int(input())\n",
    "x = []\n",
    "\n",
    "for i in range(n):\n",
    "    a, b = map(int, input().split())\n",
    "    x.append([b, a])"
   ]
  },
  {
   "cell_type": "markdown",
   "metadata": {},
   "source": [
    "После создания структуры $x$ отсортируем её по неубыванию $b_i$ и по невозрастанию $a_i$."
   ]
  },
  {
   "cell_type": "code",
   "execution_count": 4,
   "metadata": {},
   "outputs": [],
   "source": [
    "def g(z):\n",
    "    return z[0], -z[1]"
   ]
  },
  {
   "cell_type": "code",
   "execution_count": 5,
   "metadata": {},
   "outputs": [],
   "source": [
    "x.sort(key=g)"
   ]
  },
  {
   "cell_type": "markdown",
   "metadata": {},
   "source": [
    "2. Вторая структура - массив префиксных сумм выносливости миньонов в отсортированной структуре $x$:"
   ]
  },
  {
   "cell_type": "code",
   "execution_count": 6,
   "metadata": {},
   "outputs": [],
   "source": [
    "pref = [0] * n\n",
    "pref[0] = x[0][0]\n",
    "\n",
    "for i in range(1, n):\n",
    "    pref[i] += pref[i - 1] + x[i][0]\n",
    "    "
   ]
  },
  {
   "cell_type": "markdown",
   "metadata": {},
   "source": [
    "3. Третья структура - массив $diff$ длины $n$, где $diff[i] = min(a_j - b_j)$  для всех $j \\leq i$"
   ]
  },
  {
   "cell_type": "code",
   "execution_count": 7,
   "metadata": {},
   "outputs": [],
   "source": [
    "diff = [0] * n\n",
    "diff[0] = x[0][1] - x[0][0]\n",
    "\n",
    "for i in range(1, n):\n",
    "    diff[i] = min(x[i][1] - x[i][0], diff[i - 1])"
   ]
  },
  {
   "cell_type": "markdown",
   "metadata": {},
   "source": [
    "4. Четвертая стуктура - массив минимумов на суффиксах силы миньонов в отсортированной структуре $x$:"
   ]
  },
  {
   "cell_type": "code",
   "execution_count": 8,
   "metadata": {},
   "outputs": [],
   "source": [
    "suf = [0] * n\n",
    "suf[n - 1] = x[n - 1][1]\n",
    "for i in range(n - 2, -1, -1):\n",
    "    suf[i] = min(suf[i + 1], x[i][1])"
   ]
  },
  {
   "cell_type": "markdown",
   "metadata": {},
   "source": [
    "Пусть нам нужно выбрать отряд миньонов минимальной стоимости, состоящий из $k$ бойцов. Мы можем взять первые $k$ миньонов из списка $x$. Суммарная выносливость у них будет минимально возможная. Пусть пока это и будет стоимостью отряда $f(k)$.  \n",
    "Выбарем лидера отряда. У нас есть два способа это сделать.   \n",
    "Первый способ - назначить в лидеры одного из членов отряда.  Пусть это будет миньон с номером $i$. Тогда стоимость отряда изменится следующим образом:  \n",
    "$f(k) + (a_i - b_i)$  \n",
    "Сразу стало видно, что $i$ нужно выбирать таким образом, чтобы $a_i - b_i$ было минимальным.  \n",
    "  \n",
    "Второй способ - назначить лидером миньона не из отряда. Тогда их отряда нужно исключить миньона с наибольшей выносливостью, это будет миньон с номером $k$. А в лидеры назначить миньона не из отряда с минимальной силой. Тогда стоимость отряда изменится следующим образом:  \n",
    "  \n",
    "  $f(k - 1) + min(a_i)$  \n",
    "  \n",
    "  так как $min(a_i)$ = $suf[i]$, получаем  \n",
    "  \n",
    "  $f(k - 1) + suf[i]$\n",
    "\n",
    "  \n",
    "  Из этих двух способов назначения лидера отряда выбираем тот, который дает наименьшую стоимость."
   ]
  },
  {
   "cell_type": "markdown",
   "metadata": {},
   "source": [
    "Все готово, что бы запустить динамику:"
   ]
  },
  {
   "cell_type": "code",
   "execution_count": 9,
   "metadata": {},
   "outputs": [],
   "source": [
    "f = [0] * n\n",
    "f[0] = suf[0]\n",
    "for i in range(1, n):\n",
    "    f[i] = min(pref[i] + diff[i], pref[i - 1] + suf[i])"
   ]
  },
  {
   "cell_type": "code",
   "execution_count": 10,
   "metadata": {},
   "outputs": [
    {
     "name": "stdout",
     "output_type": "stream",
     "text": [
      "2 5 8 11 15\n"
     ]
    }
   ],
   "source": [
    "print(*f)"
   ]
  },
  {
   "cell_type": "code",
   "execution_count": null,
   "metadata": {},
   "outputs": [],
   "source": []
  }
 ],
 "metadata": {
  "kernelspec": {
   "display_name": "Python 3",
   "language": "python",
   "name": "python3"
  },
  "language_info": {
   "codemirror_mode": {
    "name": "ipython",
    "version": 3
   },
   "file_extension": ".py",
   "mimetype": "text/x-python",
   "name": "python",
   "nbconvert_exporter": "python",
   "pygments_lexer": "ipython3",
   "version": "3.7.2"
  }
 },
 "nbformat": 4,
 "nbformat_minor": 2
}
