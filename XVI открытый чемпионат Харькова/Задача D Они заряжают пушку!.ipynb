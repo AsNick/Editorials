{
 "cells": [
  {
   "cell_type": "markdown",
   "metadata": {},
   "source": [
    "## Задача D: Они заряжают пушку!"
   ]
  },
  {
   "cell_type": "markdown",
   "metadata": {},
   "source": [
    "Задача на реализацию процесса, описанного в условии.  \n",
    "1. Умножим входные данные на $10$, что бы оставаться в целых числах.\n",
    "2. Если $k * t1 + 366 > 999$ пират сгорает после первой очереди.\n",
    "3. Иначе, если $k * t1 = t2$ \"эта музыка будет вечной\".\n",
    "4. Иначе, если $k * t1 < t2$ пират в конце концов замерзнет, нужно подсчитать, на какой итерации это произойдет.\n",
    "5. Иначе, пират в конце концов сгорит, нужно подсчитать, на какой итерации это произойдет.\n"
   ]
  },
  {
   "cell_type": "code",
   "execution_count": 1,
   "metadata": {},
   "outputs": [
    {
     "name": "stdout",
     "output_type": "stream",
     "text": [
      "5 1 10\n",
      "frozen\n",
      "74\n"
     ]
    }
   ],
   "source": [
    "k, t1, t2 = map(int, input().split())\n",
    "T = 366\n",
    "\n",
    "q = 0\n",
    "if T + k * t1 > 999:\n",
    "    print('burned')\n",
    "    print(1)\n",
    "elif k * t1 == t2:\n",
    "    print('survived')\n",
    "elif k * t1 < t2:\n",
    "    while T > 0:\n",
    "        T += k * t1\n",
    "        T -= t2\n",
    "        q += 1\n",
    "    print('frozen')\n",
    "    print(q)\n",
    "else:\n",
    "    while T < 999:\n",
    "        q += 1\n",
    "        T += k * t1\n",
    "        if T >= 1000:\n",
    "            print('burned')\n",
    "            print(q)\n",
    "            break\n",
    "        T -= t2\n"
   ]
  },
  {
   "cell_type": "code",
   "execution_count": null,
   "metadata": {},
   "outputs": [],
   "source": []
  }
 ],
 "metadata": {
  "kernelspec": {
   "display_name": "Python 3",
   "language": "python",
   "name": "python3"
  },
  "language_info": {
   "codemirror_mode": {
    "name": "ipython",
    "version": 3
   },
   "file_extension": ".py",
   "mimetype": "text/x-python",
   "name": "python",
   "nbconvert_exporter": "python",
   "pygments_lexer": "ipython3",
   "version": "3.7.2"
  }
 },
 "nbformat": 4,
 "nbformat_minor": 2
}
