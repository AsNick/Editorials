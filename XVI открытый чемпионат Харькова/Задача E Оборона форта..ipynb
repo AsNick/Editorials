{
 "cells": [
  {
   "cell_type": "markdown",
   "metadata": {},
   "source": [
    "## Задача E: Оборона форта."
   ]
  },
  {
   "cell_type": "markdown",
   "metadata": {},
   "source": [
    "Классическая задача на моделирование пошаговой игры."
   ]
  },
  {
   "cell_type": "markdown",
   "metadata": {},
   "source": [
    "Шаг $№1$.  \n",
    "Защитники форта дают залп и каждый из $n$ защитников разбивает $k$ бутылок рома. Пираты делают \"гав\" и один защитник форта деморализован.Если у пиратов не осталось рома, игра заканчивается победой защитников форта. Иначе, если все защитники форта деморализованны,игра заканчивается победой пиратов. Иначе, если не осталось рома и все защитники форта деморализованны, игра заканчивается ничьей.Если и ром и недеморализованные защитники форта в наличии, пересчитываем  $n$ и $m$ и повторяем шаг $№1$.\n"
   ]
  },
  {
   "cell_type": "code",
   "execution_count": 1,
   "metadata": {},
   "outputs": [],
   "source": [
    "pass"
   ]
  }
 ],
 "metadata": {
  "kernelspec": {
   "display_name": "Python 3",
   "language": "python",
   "name": "python3"
  },
  "language_info": {
   "codemirror_mode": {
    "name": "ipython",
    "version": 3
   },
   "file_extension": ".py",
   "mimetype": "text/x-python",
   "name": "python",
   "nbconvert_exporter": "python",
   "pygments_lexer": "ipython3",
   "version": "3.7.2"
  }
 },
 "nbformat": 4,
 "nbformat_minor": 2
}
