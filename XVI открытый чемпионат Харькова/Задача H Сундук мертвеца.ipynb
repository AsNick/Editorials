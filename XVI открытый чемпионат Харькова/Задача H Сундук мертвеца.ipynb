{
 "cells": [
  {
   "cell_type": "markdown",
   "metadata": {},
   "source": [
    "## Задача H Сундук мертвеца."
   ]
  },
  {
   "cell_type": "markdown",
   "metadata": {},
   "source": [
    "### Условие:"
   ]
  },
  {
   "cell_type": "markdown",
   "metadata": {},
   "source": [
    "### Идея решения:  \n",
    "Считываем число $N$ в строку $n$.  \n",
    "Заводим переменную **ans**, в которой будем накапливать количество подходящих чисел.  \n",
    "Циклом for проходим по строке, если цифра $n[i]$ чётная, все срезы, оканчивающиеся в $n[i]$ - подходящие для нас числа и их ровно $i + 1$. Прибавляем $i + 1$ к **ans**. \n",
    "После обработки всех элементов строки $n$, в **ans** будет храниться количество подходящих чисел.  \n",
    "Дополним **ans** пятью ведущими нулями и потом возьмем срез длины пять от конечного элемента.\n",
    "Это и будет ответ на вопрос задачи.\n",
    "\n",
    "\n",
    "\n",
    "\n"
   ]
  },
  {
   "cell_type": "code",
   "execution_count": 3,
   "metadata": {},
   "outputs": [],
   "source": [
    "pass"
   ]
  }
 ],
 "metadata": {
  "kernelspec": {
   "display_name": "Python 3",
   "language": "python",
   "name": "python3"
  },
  "language_info": {
   "codemirror_mode": {
    "name": "ipython",
    "version": 3
   },
   "file_extension": ".py",
   "mimetype": "text/x-python",
   "name": "python",
   "nbconvert_exporter": "python",
   "pygments_lexer": "ipython3",
   "version": "3.7.2"
  }
 },
 "nbformat": 4,
 "nbformat_minor": 2
}
