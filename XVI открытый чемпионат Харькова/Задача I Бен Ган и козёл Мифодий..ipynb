{
 "cells": [
  {
   "cell_type": "markdown",
   "metadata": {},
   "source": [
    "## Задача I: Бен Ган и козёл Мифодий."
   ]
  },
  {
   "cell_type": "markdown",
   "metadata": {},
   "source": [
    "Задача из серии \"Продолжи последовательность\".  \n",
    "\n",
    "Что бы выкопать яму длины $1$ нужен $1$ день.  \n",
    "Что бы выкопать яму длины $2$ нужt $1$ день.  \n",
    "Что бы выкопать яму длины $3$ нужно $2$ дня.  \n",
    "Что бы выкопать яму длины $4$ нужно $4$ дня.  \n",
    "Что бы выкопать яму длины $5$ нужно $8$ дней."
   ]
  },
  {
   "cell_type": "markdown",
   "metadata": {},
   "source": [
    "Что бы выкопать яму длины $N$ нужно $2^{N - 2}$ дня."
   ]
  },
  {
   "cell_type": "markdown",
   "metadata": {},
   "source": [
    "### Решение:"
   ]
  },
  {
   "cell_type": "code",
   "execution_count": 1,
   "metadata": {},
   "outputs": [
    {
     "name": "stdout",
     "output_type": "stream",
     "text": [
      "5\n",
      "8\n"
     ]
    }
   ],
   "source": [
    "n = int(input())\n",
    "print(1 if n == 1 else 2 ** (n - 2))"
   ]
  }
 ],
 "metadata": {
  "kernelspec": {
   "display_name": "Python 3",
   "language": "python",
   "name": "python3"
  },
  "language_info": {
   "codemirror_mode": {
    "name": "ipython",
    "version": 3
   },
   "file_extension": ".py",
   "mimetype": "text/x-python",
   "name": "python",
   "nbconvert_exporter": "python",
   "pygments_lexer": "ipython3",
   "version": "3.7.2"
  }
 },
 "nbformat": 4,
 "nbformat_minor": 2
}
