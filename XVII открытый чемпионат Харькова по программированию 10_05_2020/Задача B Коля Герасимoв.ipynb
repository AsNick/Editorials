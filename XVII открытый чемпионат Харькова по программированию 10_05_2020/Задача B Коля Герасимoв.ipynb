{
 "cells": [
  {
   "cell_type": "markdown",
   "metadata": {},
   "source": [
    "## Задача B: Коля Герасимoв"
   ]
  },
  {
   "cell_type": "markdown",
   "metadata": {},
   "source": [
    "#### Решение.   \n",
    "\n",
    "В этой задаче нам нужно рассмотреть все целые четырехзначные числа $C: min(A, B) \\leq C \\leq max(A, B)$ и вывести на печать те из них, количество одинаковых цифр в которых равно трем или четырём.  \n",
    "#### Реализация.\n",
    "  1. Заведем массив $a = [0, 0, 0, 0, 0, 0, 0, 0, 0, 0]$ длины 10, в которм будем хранить количество вхождений каждой цифры от $0$ до $9$ в число $C$. Пройдем по всем разрядам числа $C$$\\,\\,$ $(C[i])$, увеличивая на единицу значение $a[C[i]]$. Если в итоге $max(a) > 2$, выводим это число на печать.\n",
    "\n",
    "\n"
   ]
  },
  {
   "cell_type": "code",
   "execution_count": 1,
   "metadata": {},
   "outputs": [
    {
     "name": "stdout",
     "output_type": "stream",
     "text": [
      "1984\n",
      "2084\n",
      "\n",
      "1999\n",
      "2000\n",
      "2022\n"
     ]
    }
   ],
   "source": [
    "def f(x):\n",
    "    a = [0] * 10\n",
    "    for i in str(x):\n",
    "        a[int(i)] += 1\n",
    "    return max(a) > 2\n",
    "\n",
    "\n",
    "A, B = int(input()), int(input())\n",
    "print()\n",
    "for C in range(min(A,B ), max(A, B) + 1):\n",
    "    if f(C):\n",
    "        print(C)"
   ]
  }
 ],
 "metadata": {
  "kernelspec": {
   "display_name": "Python 3",
   "language": "python",
   "name": "python3"
  },
  "language_info": {
   "codemirror_mode": {
    "name": "ipython",
    "version": 3
   },
   "file_extension": ".py",
   "mimetype": "text/x-python",
   "name": "python",
   "nbconvert_exporter": "python",
   "pygments_lexer": "ipython3",
   "version": "3.7.2"
  }
 },
 "nbformat": 4,
 "nbformat_minor": 2
}
