{
 "cells": [
  {
   "cell_type": "markdown",
   "metadata": {},
   "source": [
    "## Задача C: Александрийская библиотека"
   ]
  },
  {
   "cell_type": "markdown",
   "metadata": {},
   "source": [
    "Задача имеет аналитическое решение и решение полным перебором."
   ]
  },
  {
   "cell_type": "markdown",
   "metadata": {},
   "source": [
    "### Решение полным перебором."
   ]
  },
  {
   "cell_type": "markdown",
   "metadata": {},
   "source": [
    "1. Если $k = 0$ и $p = 0$, то размер библиотеки - $20$ x $20$\n",
    "2. Если $k = 0$ и $p\\neq 0$, то размер библиотеки - $20$ x $20 \\cdot (p + 1)$\n",
    "3. Если $k \\neq 0$ и $p = 0$, решения не существует."
   ]
  },
  {
   "cell_type": "markdown",
   "metadata": {},
   "source": [
    "4. Если $k \\neq 0$ и $p\\neq 0$:  \n",
    "\n",
    "Для простоты будем проводить рассуждения в терминах строк и столбцов.\n",
    "  \n",
    "  Здания библиотеки прямоугольной формы, значит $k = x\\cdot y$, где $y$ - количество строк, в каждой строке расположено $x$ колонн.  \n",
    "  Подсчитаем перегородки. В каждой строке находится $x + 1$ перегородка и таких строк $y$. В каждом столбце $y + 1$ перегородка и таких столбцов $x$. Итого перегородок  $p = x \\cdot (y + 1) + y\\cdot (x + 1)$  \n",
    "  \n",
    "  Переберем все пары $(x, y)$ делителей числа $k$. Пара, которая удовлетворяет выражению $(2)$\n",
    "  \n",
    "\n"
   ]
  },
  {
   "cell_type": "code",
   "execution_count": null,
   "metadata": {},
   "outputs": [],
   "source": []
  }
 ],
 "metadata": {
  "kernelspec": {
   "display_name": "Python 3",
   "language": "python",
   "name": "python3"
  },
  "language_info": {
   "codemirror_mode": {
    "name": "ipython",
    "version": 3
   },
   "file_extension": ".py",
   "mimetype": "text/x-python",
   "name": "python",
   "nbconvert_exporter": "python",
   "pygments_lexer": "ipython3",
   "version": "3.7.2"
  }
 },
 "nbformat": 4,
 "nbformat_minor": 2
}
