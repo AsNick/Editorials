{
 "cells": [
  {
   "cell_type": "markdown",
   "metadata": {},
   "source": [
    "## Задача C: Александрийская библиотека"
   ]
  },
  {
   "cell_type": "markdown",
   "metadata": {},
   "source": [
    "Задача имеет аналитическое решение и решение полным перебором."
   ]
  },
  {
   "cell_type": "markdown",
   "metadata": {},
   "source": [
    "### Решение полным перебором."
   ]
  },
  {
   "cell_type": "markdown",
   "metadata": {},
   "source": [
    "$1$. Если $k = 0$ и $p = 0$, то размер библиотеки - $20$ x $20$  \n",
    "$2$. Если $k = 0$ и $p\\neq 0$, то размер библиотеки - $20$ x $20 \\cdot (p + 1)$  \n",
    "$3$. Если $k \\neq 0$ и $p = 0$, решения не существует.  \n",
    "  \n",
    "$4$. Если $k \\neq 0$ и $p\\neq 0$:"
   ]
  },
  {
   "cell_type": "markdown",
   "metadata": {},
   "source": [
    "\n",
    "   Как могут распологаться колонны?  \n",
    "   Рассмотрим конкретный пример с $k = 60$.  \n",
    "     \n",
    "     \n",
    "     \n",
    "   + все 60 колонн могут быть выстроены в одну линию, количество перегородок у такого постороения -  \n",
    "   $p = 2 \\cdot 60 + 61 = 182$  \n",
    "     \n",
    "     $\\circ\\circ\\circ\\circ\\circ\\circ\\circ\\circ\\circ\\circ\\circ\\circ\\circ\\circ\\circ\\circ\\circ\\circ\\circ\\circ\\circ\\circ\\circ\\circ\\circ\\circ\\circ\\circ\\circ\\circ\\circ\\circ\\circ\\circ\\circ\\circ\\circ\\circ\\circ\\circ\\circ\\circ\\circ\\circ\\circ\\circ\\circ\\circ\\circ\\circ\\circ\\circ\\circ\\circ\\circ\\circ\\circ\\circ\\circ\\circ $  \n",
    "       \n",
    "      \n",
    "   + колонны могут быть выстроены в две линии по $30$ колонн в каждой, количество перегородок у такого построения -  \n",
    "   $p = 3 \\cdot 30 + 2\\cdot 31 = 152$  \n",
    "     \n",
    "     $\\circ\\circ\\circ\\circ\\circ\\circ\\circ\\circ\\circ\\circ\\circ\\circ\\circ\\circ\\circ\\circ\\circ\\circ\\circ\\circ\\circ\\circ\\circ\\circ\\circ\\circ\\circ\\circ\\circ\\circ$  \n",
    "     $\\circ\\circ\\circ\\circ\\circ\\circ\\circ\\circ\\circ\\circ\\circ\\circ\\circ\\circ\\circ\\circ\\circ\\circ\\circ\\circ\\circ\\circ\\circ\\circ\\circ\\circ\\circ\\circ\\circ\\circ$  \n",
    "       \n",
    "        \n",
    "         \n",
    "   + колонны могут быть выстроены в три линии по $20$ колонн в каждой, количество перегородок у такого построения -  \n",
    "   $p = 4 \\cdot 20 + 3\\cdot 21 = 143$  \n",
    "     \n",
    "     $\\circ\\circ\\circ\\circ\\circ\\circ\\circ\\circ\\circ\\circ\\circ\\circ\\circ\\circ\\circ\\circ\\circ\\circ\\circ\\circ$  \n",
    "     $\\circ\\circ\\circ\\circ\\circ\\circ\\circ\\circ\\circ\\circ\\circ\\circ\\circ\\circ\\circ\\circ\\circ\\circ\\circ\\circ$  \n",
    "     $\\circ\\circ\\circ\\circ\\circ\\circ\\circ\\circ\\circ\\circ\\circ\\circ\\circ\\circ\\circ\\circ\\circ\\circ\\circ\\circ$  \n",
    "       \n",
    "   + колонны могут быть выстроены в четыре линии по $15$ колонн в каждой, количество перегородок у такого построения -  \n",
    "   $p = 5 \\cdot 15 + 4\\cdot 16 = 139$  \n",
    "     \n",
    "     $\\circ\\circ\\circ\\circ\\circ\\circ\\circ\\circ\\circ\\circ\\circ\\circ\\circ\\circ\\circ$  \n",
    "     $\\circ\\circ\\circ\\circ\\circ\\circ\\circ\\circ\\circ\\circ\\circ\\circ\\circ\\circ\\circ$  \n",
    "     $\\circ\\circ\\circ\\circ\\circ\\circ\\circ\\circ\\circ\\circ\\circ\\circ\\circ\\circ\\circ$  \n",
    "     $\\circ\\circ\\circ\\circ\\circ\\circ\\circ\\circ\\circ\\circ\\circ\\circ\\circ\\circ\\circ$  \n",
    "       \n",
    "       \n",
    "       \n",
    "   + колонны могут быть выстроены в пять линий по $12$ колонн в каждой, количество перегородок у такого построения -  \n",
    "   $p = 6 \\cdot 12 + 5\\cdot 13 = 137$  \n",
    "     \n",
    "     $\\circ\\circ\\circ\\circ\\circ\\circ\\circ\\circ\\circ\\circ\\circ\\circ$  \n",
    "     $\\circ\\circ\\circ\\circ\\circ\\circ\\circ\\circ\\circ\\circ\\circ\\circ$  \n",
    "     $\\circ\\circ\\circ\\circ\\circ\\circ\\circ\\circ\\circ\\circ\\circ\\circ$  \n",
    "     $\\circ\\circ\\circ\\circ\\circ\\circ\\circ\\circ\\circ\\circ\\circ\\circ$  \n",
    "     $\\circ\\circ\\circ\\circ\\circ\\circ\\circ\\circ\\circ\\circ\\circ\\circ$  \n",
    "       \n",
    "   + колонны могут быть выстроены в шесть линий по $10$ колонн в каждой, количество перегородок у такого построения -  \n",
    "   $p = 7 \\cdot 10 + 6\\cdot 11 = 136$  \n",
    "     \n",
    "     $\\circ\\circ\\circ\\circ\\circ\\circ\\circ\\circ\\circ\\circ$  \n",
    "     $\\circ\\circ\\circ\\circ\\circ\\circ\\circ\\circ\\circ\\circ$  \n",
    "     $\\circ\\circ\\circ\\circ\\circ\\circ\\circ\\circ\\circ\\circ$  \n",
    "     $\\circ\\circ\\circ\\circ\\circ\\circ\\circ\\circ\\circ\\circ$  \n",
    "     $\\circ\\circ\\circ\\circ\\circ\\circ\\circ\\circ\\circ\\circ$  \n",
    "     $\\circ\\circ\\circ\\circ\\circ\\circ\\circ\\circ\\circ\\circ$  \n",
    "     \n",
    "     \n",
    "\n",
    "Других построений нет или они получаются из вышеуказанных поворотом на 90 градусов.\n",
    "  \n",
    "  Таким образом, для заданного $k$ нам нужно рассмотреть все пары его целочисленных делителей $(x, y)$, такие, что  \n",
    "  \n",
    "  $k = x\\cdot y, x\\in \\mathbb{N}, y\\in\\mathbb{N}, x \\leq y, y = \\frac{k}{x}$.  \n",
    "  \n",
    "  Каждая такая пара задает расстановку колонн, а каждая расстановка колонн однозначно задает количество перегородок, которые можно подсчитать по формуле  \n",
    "  $p = (x + 1) \\cdot y + (y + 1) \\cdot x$\n",
    "    \n",
    "  Если найденное по вышестоящей формуле $p$ совпадает с $p$ во входных данных, значит мы нашли нужную расстановку коллон и задающую эту расстановку пару $(x, y)$.\n",
    "  Тогда ширина библиотеки равна $20 \\cdot (y + 1)$ метров, а её длина равна $20 \\cdot (x + 1)$ метров."
   ]
  },
  {
   "cell_type": "markdown",
   "metadata": {},
   "source": [
    "### Код решения на языке программирования Python."
   ]
  },
  {
   "cell_type": "code",
   "execution_count": 1,
   "metadata": {},
   "outputs": [
    {
     "name": "stdout",
     "output_type": "stream",
     "text": [
      "27\n",
      "66\n",
      "80\n",
      "200\n"
     ]
    }
   ],
   "source": [
    "k = int(input())\n",
    "p = int(input())\n",
    "\n",
    "if k == 0:\n",
    "    if p == 0:\n",
    "        print(20, 20, sep='\\n')\n",
    "    else:\n",
    "        print(20, 20 * (p + 1), sep='\\n')\n",
    "else:\n",
    "    for x in range(1, k + 1):\n",
    "        if k % x == 0:\n",
    "            y = k // x\n",
    "            px = y * (x + 1) + x * (y + 1)\n",
    "            if px == p:\n",
    "                print(20 * (x + 1), 20 * (y + 1), sep='\\n')\n",
    "                break\n"
   ]
  },
  {
   "cell_type": "markdown",
   "metadata": {},
   "source": [
    "### Аналитическое решение."
   ]
  },
  {
   "cell_type": "markdown",
   "metadata": {},
   "source": [
    "Пусть $x_1$ = количество колонн, расположенных \"в длину\" библиотеки, $x_2$ - количество колонн, расположенных \"в ширину\" библиотеки. \n",
    "Тогда ширина библиотеки равна $20 \\cdot (x_1 + 1)$ метров, а её длина равна $20 \\cdot (x_2 + 1)$ метров.  \n",
    "Найдем $x_1$ и $x_2$.\n",
    "\n",
    "\n",
    "$k = x_1 \\cdot x_2$  \n",
    "$p = (x_1 + 1) \\cdot x_2\\ + (x_2 + 1)\\cdot x_1$  \n",
    "  \n",
    "  или\n",
    "\n",
    "$\\left\\{\\begin{matrix}\n",
    "x_1 \\cdot x_2 = k\\\\\n",
    "x_1 + x_2 = p - 2\\cdot k \n",
    "\\end{matrix}\\right.$  \n",
    "\n",
    "\n",
    "Получили формулы Виета для приведенного квадратного уравнения \n",
    "  \n",
    "  \n",
    "$x^2 - (p - 2\\cdot k)\\cdot x + k = 0$  \n",
    "  \n",
    "корни которого равны  \n",
    "  \n",
    "$x_1 = \\frac{p - 2\\cdot k - \\sqrt{(p - 2\\cdot k)^2 - 4\\cdot k)}}{2}$   \n",
    "\n",
    "$x_2 = \\frac{p - 2\\cdot k + \\sqrt{(p - 2\\cdot k)^2 - 4\\cdot k)}}{2}$   \n",
    "\n"
   ]
  },
  {
   "cell_type": "code",
   "execution_count": 2,
   "metadata": {},
   "outputs": [
    {
     "name": "stdout",
     "output_type": "stream",
     "text": [
      "80\n",
      "200\n"
     ]
    }
   ],
   "source": [
    "x1 = int(p - 2 * k - ((p - 2 * k) * (p - 2 * k) - 4 * k) ** .5) // 2\n",
    "x2 = int(p - 2 * k + ((p - 2 * k) * (p - 2 * k) - 4 * k) ** .5) // 2\n",
    "\n",
    "print(20 * (x1 + 1), 20 * (x2 + 1), sep='\\n')"
   ]
  }
 ],
 "metadata": {
  "kernelspec": {
   "display_name": "Python 3",
   "language": "python",
   "name": "python3"
  },
  "language_info": {
   "codemirror_mode": {
    "name": "ipython",
    "version": 3
   },
   "file_extension": ".py",
   "mimetype": "text/x-python",
   "name": "python",
   "nbconvert_exporter": "python",
   "pygments_lexer": "ipython3",
   "version": "3.7.2"
  }
 },
 "nbformat": 4,
 "nbformat_minor": 2
}
