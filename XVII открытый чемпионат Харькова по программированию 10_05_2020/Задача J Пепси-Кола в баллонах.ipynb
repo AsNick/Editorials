{
 "cells": [
  {
   "cell_type": "markdown",
   "metadata": {},
   "source": [
    "## Задача J: Пепси-Кола в баллонах."
   ]
  },
  {
   "cell_type": "markdown",
   "metadata": {},
   "source": [
    "Решим предварительно простую задачу из курса школьной математики:\n",
    "на числовой прямой  целочисленными координатами своих концов заданы два отрезка $a =\\left [ l_1, r_1\\right ]$ и $b =\\left [l_2, r_2 \\right ]$. Нужно найти пересечение этих отрезков."
   ]
  },
  {
   "cell_type": "markdown",
   "metadata": {},
   "source": [
    "Решение: пусть $l = min(l_1, l_2), r = max(r_1, r_2)$, тогда:  \n",
    "+ если $l > r$ то $ a\\,\\bigcap\\, b = {\\varnothing }$  \n",
    "+ если $l = r$ то $a \\bigcap b = l$  \n",
    "+ если $l < r$ то $a \\bigcap b = \\left [ l, r\\right ]$  \n",
    "  \n",
    "  \n",
    "Задача решена."
   ]
  },
  {
   "cell_type": "markdown",
   "metadata": {},
   "source": [
    "Теперь внимательно посмотрим на задачу \"Пепси-Кола в баллонах\" и увидим, что она ничем не отличается от задачи о пересечении отрезков."
   ]
  },
  {
   "cell_type": "markdown",
   "metadata": {},
   "source": [
    "Действительно, $N_1$ - количество баллонов ёмкостью $50$ литров,  задает нам отрезок $A = \\left [ V_{1A}, V_{2A}\\right ]$, где $V_{1A}$ и $V_{2A}$ - минимальный и максимальный объем пепси-колы, который можно привезти на съемочную площадку в пятидесятилитровых баллонах. "
   ]
  },
  {
   "cell_type": "markdown",
   "metadata": {},
   "source": [
    "Количество баллонов ёмкостью $70$ литров $N_2$ задает нам отрезок $B = \\left [ V_{1B}, V_{2B}\\right ]$, где $V_{1B}$ и $V_{2B}$ - минимальный и максимальный объем пепси-колы, который можно привезти на съемочную площадку в семидесятилитровых баллонах. "
   ]
  },
  {
   "cell_type": "markdown",
   "metadata": {},
   "source": [
    "Если пересечением отрезков $A$ и $B$ является пустое множество, это значит, что значения $N_1$ и $N_2$ противоречат друг другу и ответ на вопрос задачи равен $-1$.  \n",
    "Иначе, $L$ - левая  граница пересечения отрезков $A$ и $B$, даст нам минимальное необходимое количество баллонов емкостью $60$ литров,а правая граница $R$ - максимальное необходимое количество шестидесятилитровых баллонов.  \n",
    "Решением задачи в этом случае будут все целочисленные значения от $L$ до $R$ включительно.\n"
   ]
  },
  {
   "cell_type": "markdown",
   "metadata": {},
   "source": [
    "### Код на языке программирования Python:"
   ]
  },
  {
   "cell_type": "code",
   "execution_count": 4,
   "metadata": {},
   "outputs": [
    {
     "name": "stdout",
     "output_type": "stream",
     "text": [
      "3\n",
      "2\n",
      "2 3\n"
     ]
    }
   ],
   "source": [
    "n1 = int(input())\n",
    "n2 = int(input())\n",
    "\n",
    "a1 = n1 * 50 - 49\n",
    "b1 = n1 * 50\n",
    "\n",
    "a2 = n2 * 70 - 69\n",
    "b2 = n2 * 70\n",
    "\n",
    "l = max(a1, a2)\n",
    "r = min(b1, b2)\n",
    "\n",
    "if l > r:\n",
    "    print(-1)\n",
    "else:\n",
    "    v1 = (l + 59) // 60\n",
    "    v2 = (r + 59) // 60\n",
    "    print(*[n for n in range(v1, v2 + 1)])"
   ]
  },
  {
   "cell_type": "code",
   "execution_count": null,
   "metadata": {},
   "outputs": [],
   "source": []
  }
 ],
 "metadata": {
  "kernelspec": {
   "display_name": "Python 3",
   "language": "python",
   "name": "python3"
  },
  "language_info": {
   "codemirror_mode": {
    "name": "ipython",
    "version": 3
   },
   "file_extension": ".py",
   "mimetype": "text/x-python",
   "name": "python",
   "nbconvert_exporter": "python",
   "pygments_lexer": "ipython3",
   "version": "3.7.2"
  }
 },
 "nbformat": 4,
 "nbformat_minor": 2
}
