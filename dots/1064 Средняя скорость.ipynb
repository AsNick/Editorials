{
 "cells": [
  {
   "cell_type": "markdown",
   "metadata": {},
   "source": [
    "t1 - время, которое автомобиль ехал со скоростью v1\n",
    "t1 - время, которое автомобиль ехал со скоростью v2\n",
    "(t1 + t1) - время, за которое автомобиль проехал рассояние AB\n",
    "AB / 2 * t1 - средняя скорость\n",
    "с другой стороны:\n",
    "t1 * v1 + t1 * v2 = AB\n",
    "тогда\n",
    "t1 * (v1 + v2) / 2 * t1 = (v1 + v2) / 2 - средняя скорость\n",
    "\n",
    "\n"
   ]
  }
 ],
 "metadata": {
  "kernelspec": {
   "display_name": "Python 3",
   "language": "python",
   "name": "python3"
  },
  "language_info": {
   "codemirror_mode": {
    "name": "ipython",
    "version": 3
   },
   "file_extension": ".py",
   "mimetype": "text/x-python",
   "name": "python",
   "nbconvert_exporter": "python",
   "pygments_lexer": "ipython3",
   "version": "3.7.2"
  }
 },
 "nbformat": 4,
 "nbformat_minor": 2
}
