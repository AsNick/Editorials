{
 "cells": [
  {
   "cell_type": "code",
   "execution_count": 2,
   "metadata": {},
   "outputs": [
    {
     "name": "stdout",
     "output_type": "stream",
     "text": [
      "3\n",
      "763 245 113\n",
      "Crash 2\n"
     ]
    }
   ],
   "source": [
    "n = int(input())\n",
    "k = 437\n",
    "a = list(map(int, input().split()))\n",
    "f = True\n",
    "for i in range(n):\n",
    "    if a[i] <= k:\n",
    "        print('Crash', i + 1)\n",
    "        f = False\n",
    "        break\n",
    "\n",
    "if f:\n",
    "    print('No crash')"
   ]
  },
  {
   "cell_type": "code",
   "execution_count": 6,
   "metadata": {},
   "outputs": [
    {
     "name": "stdout",
     "output_type": "stream",
     "text": [
      "1 2 3 3 2 1\n",
      "9 4 1 14\n"
     ]
    }
   ],
   "source": [
    "a1, a2, a3, b1, b2, b3 = map(int, input().split())\n",
    " \n",
    "if b1 < b2:\n",
    "    b1, b2 = b2, b1\n",
    "if b1 < b3:\n",
    "    b1, b3 = b3, b1\n",
    "if b2 < b3:\n",
    "    b2, b3 = b3, b2\n",
    "\n",
    "if a1 < a2:\n",
    "    a1, a2 = a2, a1\n",
    "if a1 < a3:\n",
    "    a1, a3 = a3, a1\n",
    "if a2 < a3:\n",
    "    a2, a3 = a3, a2\n",
    "\n",
    "ab1 = a1 * b1\n",
    "ab2 = a2 * b2\n",
    "ab3 = a3 * b3\n",
    "ab4 = ab1 + ab2 + ab3\n",
    "print(ab4)"
   ]
  },
  {
   "cell_type": "code",
   "execution_count": null,
   "metadata": {},
   "outputs": [],
   "source": []
  }
 ],
 "metadata": {
  "kernelspec": {
   "display_name": "Python 3",
   "language": "python",
   "name": "python3"
  },
  "language_info": {
   "codemirror_mode": {
    "name": "ipython",
    "version": 3
   },
   "file_extension": ".py",
   "mimetype": "text/x-python",
   "name": "python",
   "nbconvert_exporter": "python",
   "pygments_lexer": "ipython3",
   "version": "3.7.2"
  }
 },
 "nbformat": 4,
 "nbformat_minor": 2
}
