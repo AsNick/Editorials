{
 "cells": [
  {
   "cell_type": "markdown",
   "metadata": {},
   "source": [
    "### Задача A: Послiдовнiсть  \n",
    "\n",
    "Потрiбно побудувати послiдовнiсть $a$ довжиною $n$, що виконувалися обмеження:  \n",
    "+ Для кожного $i$  $(1 \\leq i \\leq r)$  $l \\leq a_i \\leq r$.  \n",
    "+ Для кожного $i$  $(1 \\leq i < n)$ $a_i$ має бути дiльником $a_{i+1}$.  \n",
    "+ Для кожного $i$  $(1 \\leq i < n)$ $a_i < a_{i+1}$.  \n",
    "\n",
    "Потрiбно знайти максимально можливу довжину послiдовностi.  \n",
    "\n",
    "### Формат вхiдних даних  \n",
    "\n",
    "Перший рядок мiстить два цiлi числа $l$ та $r$ $(1 \\leq l \\leq r \\leq 10^{18})$.  \n",
    "  \n",
    "### Формат вихiдних даних  \n",
    "\n",
    "Виведiть одне цiле число — максимально можливу довжину такої послiдовностi. \n",
    "\n",
    "### Приклад  \n",
    "\n",
    "standard input $\\,\\,\\,\\,\\,\\,\\,\\,\\,\\,\\,$ standard output  \n",
    "3 19 $\\, \\, \\, \\, \\,\\, \\,\\, \\, \\, \\, \\,\\, \\,$                     3"
   ]
  },
  {
   "cell_type": "markdown",
   "metadata": {},
   "source": [
    "### Решение\n"
   ]
  },
  {
   "cell_type": "code",
   "execution_count": 1,
   "metadata": {},
   "outputs": [
    {
     "name": "stdout",
     "output_type": "stream",
     "text": [
      "3 19\n",
      "3\n"
     ]
    }
   ],
   "source": [
    "l, r = map(int, input().split())\n",
    "n = 1\n",
    "\n",
    "while l * 2 <= r:\n",
    "    n += 1\n",
    "    l *= 2\n",
    "\n",
    "print(n)\n"
   ]
  },
  {
   "cell_type": "code",
   "execution_count": null,
   "metadata": {},
   "outputs": [],
   "source": []
  }
 ],
 "metadata": {
  "kernelspec": {
   "display_name": "Python 3",
   "language": "python",
   "name": "python3"
  },
  "language_info": {
   "codemirror_mode": {
    "name": "ipython",
    "version": 3
   },
   "file_extension": ".py",
   "mimetype": "text/x-python",
   "name": "python",
   "nbconvert_exporter": "python",
   "pygments_lexer": "ipython3",
   "version": "3.7.2"
  }
 },
 "nbformat": 4,
 "nbformat_minor": 2
}
