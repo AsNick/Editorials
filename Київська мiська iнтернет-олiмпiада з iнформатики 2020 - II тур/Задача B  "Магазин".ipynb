{
 "cells": [
  {
   "cell_type": "markdown",
   "metadata": {},
   "source": [
    "### Задача B: Магазин  \n",
    "\n",
    "$\\,\\,\\,\\,$Козак Вус живе на координатнiй прямiй. Його будинок знаходиться у координатi $a$.  \n",
    "$\\,\\,\\,\\,$На цiй прямiй також є два магазини, один з них знаходиться на координатi $b$, а другий на координатi $c$.  \n",
    "$\\,\\,\\,\\,$Козаку потрiбно сходити у будь-який з них та повернутися назад.  \n",
    "$\\,\\,\\,\\,$Знайдiть мiнiмальну вiдстань, яку йому потрiбно подолати.  \n",
    "\n",
    "####  Формат вхiдних даних  \n",
    "\n",
    "Перший рядок мiстить три цiлi числа $a, b, c$ $(1 \\leq a, b, c \\leq 10^9)$.  \n",
    "\n",
    "#### Формат вихiдних даних  \n",
    "\n",
    "Виведiть одне цiле число — вiдповiдь на задачу.  \n",
    "\n",
    "#### Приклади  \n",
    "  \n",
    "    standard input                    standard output  \n",
    "      2 1 5                                 2  \n",
    "      6 10 11                               8  \n",
    "  \n",
    "#### Примiтка  \n",
    "\n",
    "$\\,\\,\\,\\,$У першому прикладi Козак Вус живе у координатi 2, тому йому краще сходити до магазину в  \n",
    "координатi 1.  "
   ]
  },
  {
   "cell_type": "markdown",
   "metadata": {},
   "source": [
    "### Решение"
   ]
  },
  {
   "cell_type": "code",
   "execution_count": 1,
   "metadata": {},
   "outputs": [
    {
     "name": "stdout",
     "output_type": "stream",
     "text": [
      "6 10 11\n",
      "8\n"
     ]
    }
   ],
   "source": [
    "a, b, c = map(int, input().split())\n",
    "print(min(2 * abs(a - b), 2 * abs(a - c)))"
   ]
  },
  {
   "cell_type": "code",
   "execution_count": null,
   "metadata": {},
   "outputs": [],
   "source": []
  }
 ],
 "metadata": {
  "kernelspec": {
   "display_name": "Python 3",
   "language": "python",
   "name": "python3"
  },
  "language_info": {
   "codemirror_mode": {
    "name": "ipython",
    "version": 3
   },
   "file_extension": ".py",
   "mimetype": "text/x-python",
   "name": "python",
   "nbconvert_exporter": "python",
   "pygments_lexer": "ipython3",
   "version": "3.7.2"
  }
 },
 "nbformat": 4,
 "nbformat_minor": 2
}
