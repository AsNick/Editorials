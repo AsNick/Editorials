{
 "cells": [
  {
   "cell_type": "markdown",
   "metadata": {},
   "source": [
    "### Задача C: Палiндроми"
   ]
  },
  {
   "cell_type": "markdown",
   "metadata": {},
   "source": [
    "$\\,\\,\\,\\,$Дано рядок $s$. Ви можете мiняти мiсцями символи будь-яку кiлькiсть разiв.  \n",
    "Наприклад, якщо $s = “aebecda”$, ви можете, наприклад, помiняти мiсцями символи так, щоб вийшов рядок $“abacede”$.  \n",
    "$\\,\\,\\,\\,$Пiсля того, як ви перемiшаєте символи, вам потрiбно роздiлити рядок на кiлька пiдрядкiв (принаймнi на один).  \n",
    "Кожен символ початкового рядка має належати рiвно одному пiдрядку. Наприклад, останнiй рядок можна роздiлити так:  \n",
    "$“aba|c|ede”$.  \n",
    "$\\,\\,\\,\\,$Потрiбно роздiлити рядки так, щоб кожен пiдрядок був палiндромом.  \n",
    "$\\,\\,\\,\\,$Нагадаємо, що палiднром — рядок, що однаково читається в обох напрямках (злiва направо та справа налiво).  \n",
    "$\\,\\,\\,\\,$Роздiлiть рядок так, щоб довжина мiнiмального палiндрома була максимальна. Знайдiть цю\n",
    "довжину.  \n",
    "\n",
    "#### Формат вхiдних даних  \n",
    "\n",
    "$\\,\\,\\,\\,$Перший рядок мiстить рядок $s (1 \\leq |s| \\leq 10^5)$, який складається лише з лiтер англiйського\n",
    "алфавiту у нижньому регiстрi.  \n",
    "\n",
    "#### Формат вихiдних даних\n",
    "Виведiть одне цiле число — вiдповiдь на цю задачу.  \n",
    "\n",
    "#### Приклади  \n",
    "  \n",
    "    standard input                    standard output  \n",
    "    aebecda                                 1  \n",
    "    eutxutuatgextu                          7"
   ]
  },
  {
   "cell_type": "markdown",
   "metadata": {},
   "source": [
    "### Решение"
   ]
  },
  {
   "cell_type": "code",
   "execution_count": 3,
   "metadata": {},
   "outputs": [
    {
     "name": "stdout",
     "output_type": "stream",
     "text": [
      "eutxutuatgextu\n",
      "7\n"
     ]
    }
   ],
   "source": [
    "d = dict()\n",
    "s = input()\n",
    "for i in s:\n",
    "    if i in d.keys():\n",
    "        d[i] += 1\n",
    "    else:\n",
    "        d[i] = 1\n",
    "\n",
    "a = []\n",
    "b = []\n",
    "for i in d:\n",
    "    if d[i] % 2:\n",
    "        a.append(d[i])\n",
    "    else:\n",
    "        b.append(d[i])\n",
    "\n",
    "if len(a) < 2:\n",
    "    ans = len(s)\n",
    "else:\n",
    "    h = 1\n",
    "    d = (sum(a) - len(a) + sum(b)) // 2\n",
    "    ans = h + 2 * (d // len(a))\n",
    "\n",
    "print(ans)\n"
   ]
  },
  {
   "cell_type": "code",
   "execution_count": null,
   "metadata": {},
   "outputs": [],
   "source": []
  }
 ],
 "metadata": {
  "kernelspec": {
   "display_name": "Python 3",
   "language": "python",
   "name": "python3"
  },
  "language_info": {
   "codemirror_mode": {
    "name": "ipython",
    "version": 3
   },
   "file_extension": ".py",
   "mimetype": "text/x-python",
   "name": "python",
   "nbconvert_exporter": "python",
   "pygments_lexer": "ipython3",
   "version": "3.7.2"
  }
 },
 "nbformat": 4,
 "nbformat_minor": 2
}
